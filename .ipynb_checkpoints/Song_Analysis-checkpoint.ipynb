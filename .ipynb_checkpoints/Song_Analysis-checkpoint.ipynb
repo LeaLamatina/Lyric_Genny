{
 "cells": [
  {
   "cell_type": "code",
   "execution_count": 2,
   "metadata": {},
   "outputs": [],
   "source": [
    "\n",
    "import spotipy\n",
    "from spotipy.oauth2 import SpotifyClientCredentials\n",
    "\n",
    "cid =\"870fde90f6d043cfaf845d3114806d38\" \n",
    "secret = \"ca6314a4da174f1b9c943968c559d57c\"\n",
    "\n",
    "client_credentials_manager = SpotifyClientCredentials(client_id=cid, client_secret=secret)\n",
    "sp = spotipy.Spotify(client_credentials_manager=client_credentials_manager)"
   ]
  },
  {
   "cell_type": "code",
   "execution_count": 3,
   "metadata": {},
   "outputs": [
    {
     "name": "stdout",
     "output_type": "stream",
     "text": [
      "Time to run this code (in seconds): 221.42631124571227\n"
     ]
    }
   ],
   "source": [
    "# timeit library to measure the time needed to run this code\n",
    "import timeit\n",
    "start = timeit.default_timer()\n",
    "\n",
    "# create empty lists where the results are going to be stored\n",
    "artist_name = []\n",
    "track_name = []\n",
    "popularity = []\n",
    "track_id = []\n",
    "\n",
    "for i in range(0,10000,50):\n",
    "    track_results = sp.search(q='year:2018', type='track', limit=50,offset=i)\n",
    "    for i, t in enumerate(track_results['tracks']['items']):\n",
    "        artist_name.append(t['artists'][0]['name'])\n",
    "        track_name.append(t['name'])\n",
    "        track_id.append(t['id'])\n",
    "        popularity.append(t['popularity'])\n",
    "      \n",
    "\n",
    "stop = timeit.default_timer()\n",
    "print ('Time to run this code (in seconds):', stop - start)"
   ]
  },
  {
   "cell_type": "code",
   "execution_count": 4,
   "metadata": {},
   "outputs": [
    {
     "name": "stdout",
     "output_type": "stream",
     "text": [
      "number of elements in the track_id list: 10000\n"
     ]
    }
   ],
   "source": [
    "print('number of elements in the track_id list:', len(track_id))"
   ]
  },
  {
   "cell_type": "code",
   "execution_count": 5,
   "metadata": {},
   "outputs": [
    {
     "name": "stdout",
     "output_type": "stream",
     "text": [
      "(10000, 4)\n"
     ]
    },
    {
     "data": {
      "text/html": [
       "<div>\n",
       "<style scoped>\n",
       "    .dataframe tbody tr th:only-of-type {\n",
       "        vertical-align: middle;\n",
       "    }\n",
       "\n",
       "    .dataframe tbody tr th {\n",
       "        vertical-align: top;\n",
       "    }\n",
       "\n",
       "    .dataframe thead th {\n",
       "        text-align: right;\n",
       "    }\n",
       "</style>\n",
       "<table border=\"1\" class=\"dataframe\">\n",
       "  <thead>\n",
       "    <tr style=\"text-align: right;\">\n",
       "      <th></th>\n",
       "      <th>artist_name</th>\n",
       "      <th>track_name</th>\n",
       "      <th>track_id</th>\n",
       "      <th>popularity</th>\n",
       "    </tr>\n",
       "  </thead>\n",
       "  <tbody>\n",
       "    <tr>\n",
       "      <th>0</th>\n",
       "      <td>Ariana Grande</td>\n",
       "      <td>thank u, next</td>\n",
       "      <td>2rPE9A1vEgShuZxxzR2tZH</td>\n",
       "      <td>100</td>\n",
       "    </tr>\n",
       "    <tr>\n",
       "      <th>1</th>\n",
       "      <td>Los Unidades</td>\n",
       "      <td>E-Lo (feat. Jozzy)</td>\n",
       "      <td>3eydp9rHJAskzOevEBK267</td>\n",
       "      <td>66</td>\n",
       "    </tr>\n",
       "    <tr>\n",
       "      <th>2</th>\n",
       "      <td>Travis Scott</td>\n",
       "      <td>SICKO MODE</td>\n",
       "      <td>2xLMifQCjDGFmkHkpNLD9h</td>\n",
       "      <td>95</td>\n",
       "    </tr>\n",
       "    <tr>\n",
       "      <th>3</th>\n",
       "      <td>Sheck Wes</td>\n",
       "      <td>Mo Bamba</td>\n",
       "      <td>1xzBco0xcoJEDXktl7Jxrr</td>\n",
       "      <td>93</td>\n",
       "    </tr>\n",
       "    <tr>\n",
       "      <th>4</th>\n",
       "      <td>Kodak Black</td>\n",
       "      <td>ZEZE (feat. Travis Scott &amp; Offset)</td>\n",
       "      <td>7l3E7lcozEodtVsSTCkcaA</td>\n",
       "      <td>95</td>\n",
       "    </tr>\n",
       "  </tbody>\n",
       "</table>\n",
       "</div>"
      ],
      "text/plain": [
       "     artist_name                          track_name                track_id  \\\n",
       "0  Ariana Grande                       thank u, next  2rPE9A1vEgShuZxxzR2tZH   \n",
       "1   Los Unidades                  E-Lo (feat. Jozzy)  3eydp9rHJAskzOevEBK267   \n",
       "2   Travis Scott                          SICKO MODE  2xLMifQCjDGFmkHkpNLD9h   \n",
       "3      Sheck Wes                            Mo Bamba  1xzBco0xcoJEDXktl7Jxrr   \n",
       "4    Kodak Black  ZEZE (feat. Travis Scott & Offset)  7l3E7lcozEodtVsSTCkcaA   \n",
       "\n",
       "   popularity  \n",
       "0         100  \n",
       "1          66  \n",
       "2          95  \n",
       "3          93  \n",
       "4          95  "
      ]
     },
     "execution_count": 5,
     "metadata": {},
     "output_type": "execute_result"
    }
   ],
   "source": [
    "import pandas as pd\n",
    "\n",
    "df_tracks = pd.DataFrame({'artist_name':artist_name,'track_name':track_name,'track_id':track_id,'popularity':popularity})\n",
    "print(df_tracks.shape)\n",
    "df_tracks.head()"
   ]
  },
  {
   "cell_type": "code",
   "execution_count": 6,
   "metadata": {},
   "outputs": [
    {
     "data": {
      "text/plain": [
       "2326"
      ]
     },
     "execution_count": 6,
     "metadata": {},
     "output_type": "execute_result"
    }
   ],
   "source": [
    "# group the entries by artist_name and track_name and check for duplicates\n",
    "\n",
    "grouped = df_tracks.groupby(['artist_name','track_name'], as_index=True).size()\n",
    "grouped[grouped > 1].count()"
   ]
  },
  {
   "cell_type": "code",
   "execution_count": 7,
   "metadata": {},
   "outputs": [],
   "source": [
    "# drop duplicate tracks\n",
    "df_tracks.drop_duplicates(subset=['artist_name','track_name'], inplace=True)"
   ]
  },
  {
   "cell_type": "code",
   "execution_count": 8,
   "metadata": {},
   "outputs": [
    {
     "data": {
      "text/plain": [
       "0"
      ]
     },
     "execution_count": 8,
     "metadata": {},
     "output_type": "execute_result"
    }
   ],
   "source": [
    "# doing the same grouping as before to verify the solution\n",
    "grouped_after_dropping = df_tracks.groupby(['artist_name','track_name'], as_index=True).size()\n",
    "grouped_after_dropping[grouped_after_dropping > 1].count()"
   ]
  },
  {
   "cell_type": "code",
   "execution_count": 9,
   "metadata": {},
   "outputs": [
    {
     "data": {
      "text/plain": [
       "(7031, 4)"
      ]
     },
     "execution_count": 9,
     "metadata": {},
     "output_type": "execute_result"
    }
   ],
   "source": [
    "df_tracks.shape"
   ]
  },
  {
   "cell_type": "code",
   "execution_count": 10,
   "metadata": {},
   "outputs": [
    {
     "name": "stdout",
     "output_type": "stream",
     "text": [
      "Number of tracks where no audio features were available: 95\n",
      "Time to run this code (in seconds): 16.17783871763652\n"
     ]
    }
   ],
   "source": [
    "# again measuring the time\n",
    "start = timeit.default_timer()\n",
    "\n",
    "# empty list, batchsize and the counter for None results\n",
    "rows = []\n",
    "batchsize = 100\n",
    "None_counter = 0\n",
    "\n",
    "for i in range(0,len(df_tracks['track_id']),batchsize):\n",
    "    batch = df_tracks['track_id'][i:i+batchsize]\n",
    "    feature_results = sp.audio_features(batch)\n",
    "    for i, t in enumerate(feature_results):\n",
    "        if t == None:\n",
    "            None_counter = None_counter + 1\n",
    "        else:\n",
    "            rows.append(t)\n",
    "            \n",
    "print('Number of tracks where no audio features were available:',None_counter)\n",
    "\n",
    "stop = timeit.default_timer()\n",
    "print ('Time to run this code (in seconds):',stop - start)"
   ]
  },
  {
   "cell_type": "code",
   "execution_count": 11,
   "metadata": {},
   "outputs": [
    {
     "name": "stdout",
     "output_type": "stream",
     "text": [
      "number of elements in the track_id list: 6936\n"
     ]
    }
   ],
   "source": [
    "print('number of elements in the track_id list:', len(rows))"
   ]
  },
  {
   "cell_type": "code",
   "execution_count": 12,
   "metadata": {},
   "outputs": [
    {
     "name": "stdout",
     "output_type": "stream",
     "text": [
      "Shape of the dataset: (6936, 18)\n"
     ]
    },
    {
     "data": {
      "text/html": [
       "<div>\n",
       "<style scoped>\n",
       "    .dataframe tbody tr th:only-of-type {\n",
       "        vertical-align: middle;\n",
       "    }\n",
       "\n",
       "    .dataframe tbody tr th {\n",
       "        vertical-align: top;\n",
       "    }\n",
       "\n",
       "    .dataframe thead th {\n",
       "        text-align: right;\n",
       "    }\n",
       "</style>\n",
       "<table border=\"1\" class=\"dataframe\">\n",
       "  <thead>\n",
       "    <tr style=\"text-align: right;\">\n",
       "      <th></th>\n",
       "      <th>acousticness</th>\n",
       "      <th>analysis_url</th>\n",
       "      <th>danceability</th>\n",
       "      <th>duration_ms</th>\n",
       "      <th>energy</th>\n",
       "      <th>id</th>\n",
       "      <th>instrumentalness</th>\n",
       "      <th>key</th>\n",
       "      <th>liveness</th>\n",
       "      <th>loudness</th>\n",
       "      <th>mode</th>\n",
       "      <th>speechiness</th>\n",
       "      <th>tempo</th>\n",
       "      <th>time_signature</th>\n",
       "      <th>track_href</th>\n",
       "      <th>type</th>\n",
       "      <th>uri</th>\n",
       "      <th>valence</th>\n",
       "    </tr>\n",
       "  </thead>\n",
       "  <tbody>\n",
       "    <tr>\n",
       "      <th>0</th>\n",
       "      <td>0.28000</td>\n",
       "      <td>https://api.spotify.com/v1/audio-analysis/2rPE...</td>\n",
       "      <td>0.724</td>\n",
       "      <td>207333</td>\n",
       "      <td>0.647</td>\n",
       "      <td>2rPE9A1vEgShuZxxzR2tZH</td>\n",
       "      <td>0.000000</td>\n",
       "      <td>1</td>\n",
       "      <td>0.1020</td>\n",
       "      <td>-5.642</td>\n",
       "      <td>1</td>\n",
       "      <td>0.0658</td>\n",
       "      <td>106.960</td>\n",
       "      <td>4</td>\n",
       "      <td>https://api.spotify.com/v1/tracks/2rPE9A1vEgSh...</td>\n",
       "      <td>audio_features</td>\n",
       "      <td>spotify:track:2rPE9A1vEgShuZxxzR2tZH</td>\n",
       "      <td>0.435</td>\n",
       "    </tr>\n",
       "    <tr>\n",
       "      <th>1</th>\n",
       "      <td>0.46900</td>\n",
       "      <td>https://api.spotify.com/v1/audio-analysis/3eyd...</td>\n",
       "      <td>0.698</td>\n",
       "      <td>214720</td>\n",
       "      <td>0.797</td>\n",
       "      <td>3eydp9rHJAskzOevEBK267</td>\n",
       "      <td>0.001180</td>\n",
       "      <td>3</td>\n",
       "      <td>0.1520</td>\n",
       "      <td>-5.125</td>\n",
       "      <td>0</td>\n",
       "      <td>0.0615</td>\n",
       "      <td>101.969</td>\n",
       "      <td>4</td>\n",
       "      <td>https://api.spotify.com/v1/tracks/3eydp9rHJAsk...</td>\n",
       "      <td>audio_features</td>\n",
       "      <td>spotify:track:3eydp9rHJAskzOevEBK267</td>\n",
       "      <td>0.530</td>\n",
       "    </tr>\n",
       "    <tr>\n",
       "      <th>2</th>\n",
       "      <td>0.00513</td>\n",
       "      <td>https://api.spotify.com/v1/audio-analysis/2xLM...</td>\n",
       "      <td>0.834</td>\n",
       "      <td>312820</td>\n",
       "      <td>0.730</td>\n",
       "      <td>2xLMifQCjDGFmkHkpNLD9h</td>\n",
       "      <td>0.000000</td>\n",
       "      <td>8</td>\n",
       "      <td>0.1240</td>\n",
       "      <td>-3.714</td>\n",
       "      <td>1</td>\n",
       "      <td>0.2220</td>\n",
       "      <td>155.008</td>\n",
       "      <td>4</td>\n",
       "      <td>https://api.spotify.com/v1/tracks/2xLMifQCjDGF...</td>\n",
       "      <td>audio_features</td>\n",
       "      <td>spotify:track:2xLMifQCjDGFmkHkpNLD9h</td>\n",
       "      <td>0.446</td>\n",
       "    </tr>\n",
       "    <tr>\n",
       "      <th>3</th>\n",
       "      <td>0.19400</td>\n",
       "      <td>https://api.spotify.com/v1/audio-analysis/1xzB...</td>\n",
       "      <td>0.729</td>\n",
       "      <td>183907</td>\n",
       "      <td>0.625</td>\n",
       "      <td>1xzBco0xcoJEDXktl7Jxrr</td>\n",
       "      <td>0.009860</td>\n",
       "      <td>4</td>\n",
       "      <td>0.2480</td>\n",
       "      <td>-5.266</td>\n",
       "      <td>1</td>\n",
       "      <td>0.0315</td>\n",
       "      <td>146.034</td>\n",
       "      <td>4</td>\n",
       "      <td>https://api.spotify.com/v1/tracks/1xzBco0xcoJE...</td>\n",
       "      <td>audio_features</td>\n",
       "      <td>spotify:track:1xzBco0xcoJEDXktl7Jxrr</td>\n",
       "      <td>0.261</td>\n",
       "    </tr>\n",
       "    <tr>\n",
       "      <th>4</th>\n",
       "      <td>0.05150</td>\n",
       "      <td>https://api.spotify.com/v1/audio-analysis/7l3E...</td>\n",
       "      <td>0.861</td>\n",
       "      <td>228654</td>\n",
       "      <td>0.637</td>\n",
       "      <td>7l3E7lcozEodtVsSTCkcaA</td>\n",
       "      <td>0.000003</td>\n",
       "      <td>8</td>\n",
       "      <td>0.0967</td>\n",
       "      <td>-5.692</td>\n",
       "      <td>0</td>\n",
       "      <td>0.2400</td>\n",
       "      <td>98.044</td>\n",
       "      <td>4</td>\n",
       "      <td>https://api.spotify.com/v1/tracks/7l3E7lcozEod...</td>\n",
       "      <td>audio_features</td>\n",
       "      <td>spotify:track:7l3E7lcozEodtVsSTCkcaA</td>\n",
       "      <td>0.474</td>\n",
       "    </tr>\n",
       "  </tbody>\n",
       "</table>\n",
       "</div>"
      ],
      "text/plain": [
       "   acousticness                                       analysis_url  \\\n",
       "0       0.28000  https://api.spotify.com/v1/audio-analysis/2rPE...   \n",
       "1       0.46900  https://api.spotify.com/v1/audio-analysis/3eyd...   \n",
       "2       0.00513  https://api.spotify.com/v1/audio-analysis/2xLM...   \n",
       "3       0.19400  https://api.spotify.com/v1/audio-analysis/1xzB...   \n",
       "4       0.05150  https://api.spotify.com/v1/audio-analysis/7l3E...   \n",
       "\n",
       "   danceability  duration_ms  energy                      id  \\\n",
       "0         0.724       207333   0.647  2rPE9A1vEgShuZxxzR2tZH   \n",
       "1         0.698       214720   0.797  3eydp9rHJAskzOevEBK267   \n",
       "2         0.834       312820   0.730  2xLMifQCjDGFmkHkpNLD9h   \n",
       "3         0.729       183907   0.625  1xzBco0xcoJEDXktl7Jxrr   \n",
       "4         0.861       228654   0.637  7l3E7lcozEodtVsSTCkcaA   \n",
       "\n",
       "   instrumentalness  key  liveness  loudness  mode  speechiness    tempo  \\\n",
       "0          0.000000    1    0.1020    -5.642     1       0.0658  106.960   \n",
       "1          0.001180    3    0.1520    -5.125     0       0.0615  101.969   \n",
       "2          0.000000    8    0.1240    -3.714     1       0.2220  155.008   \n",
       "3          0.009860    4    0.2480    -5.266     1       0.0315  146.034   \n",
       "4          0.000003    8    0.0967    -5.692     0       0.2400   98.044   \n",
       "\n",
       "   time_signature                                         track_href  \\\n",
       "0               4  https://api.spotify.com/v1/tracks/2rPE9A1vEgSh...   \n",
       "1               4  https://api.spotify.com/v1/tracks/3eydp9rHJAsk...   \n",
       "2               4  https://api.spotify.com/v1/tracks/2xLMifQCjDGF...   \n",
       "3               4  https://api.spotify.com/v1/tracks/1xzBco0xcoJE...   \n",
       "4               4  https://api.spotify.com/v1/tracks/7l3E7lcozEod...   \n",
       "\n",
       "             type                                   uri  valence  \n",
       "0  audio_features  spotify:track:2rPE9A1vEgShuZxxzR2tZH    0.435  \n",
       "1  audio_features  spotify:track:3eydp9rHJAskzOevEBK267    0.530  \n",
       "2  audio_features  spotify:track:2xLMifQCjDGFmkHkpNLD9h    0.446  \n",
       "3  audio_features  spotify:track:1xzBco0xcoJEDXktl7Jxrr    0.261  \n",
       "4  audio_features  spotify:track:7l3E7lcozEodtVsSTCkcaA    0.474  "
      ]
     },
     "execution_count": 12,
     "metadata": {},
     "output_type": "execute_result"
    }
   ],
   "source": [
    "# load audio features into a dataframe\n",
    "\n",
    "df_audio_features = pd.DataFrame.from_dict(rows,orient='columns')\n",
    "print(\"Shape of the dataset:\", df_audio_features.shape)\n",
    "df_audio_features.head()"
   ]
  },
  {
   "cell_type": "code",
   "execution_count": 13,
   "metadata": {},
   "outputs": [
    {
     "data": {
      "text/plain": [
       "(6936, 14)"
      ]
     },
     "execution_count": 13,
     "metadata": {},
     "output_type": "execute_result"
    }
   ],
   "source": [
    "# drop columns and rename id column\n",
    "\n",
    "\n",
    "columns_to_drop = ['analysis_url','track_href','type','uri']\n",
    "df_audio_features.drop(columns_to_drop, axis=1,inplace=True)\n",
    "\n",
    "df_audio_features.rename(columns={'id': 'track_id'}, inplace=True)\n",
    "\n",
    "df_audio_features.shape"
   ]
  },
  {
   "cell_type": "code",
   "execution_count": 14,
   "metadata": {},
   "outputs": [
    {
     "name": "stdout",
     "output_type": "stream",
     "text": [
      "Shape of the dataset: (6936, 14)\n"
     ]
    },
    {
     "data": {
      "text/html": [
       "<div>\n",
       "<style scoped>\n",
       "    .dataframe tbody tr th:only-of-type {\n",
       "        vertical-align: middle;\n",
       "    }\n",
       "\n",
       "    .dataframe tbody tr th {\n",
       "        vertical-align: top;\n",
       "    }\n",
       "\n",
       "    .dataframe thead th {\n",
       "        text-align: right;\n",
       "    }\n",
       "</style>\n",
       "<table border=\"1\" class=\"dataframe\">\n",
       "  <thead>\n",
       "    <tr style=\"text-align: right;\">\n",
       "      <th></th>\n",
       "      <th>artist_name</th>\n",
       "      <th>track_name</th>\n",
       "      <th>track_id</th>\n",
       "      <th>popularity</th>\n",
       "      <th>acousticness</th>\n",
       "      <th>danceability</th>\n",
       "      <th>duration_ms</th>\n",
       "      <th>energy</th>\n",
       "      <th>instrumentalness</th>\n",
       "      <th>key</th>\n",
       "      <th>liveness</th>\n",
       "      <th>loudness</th>\n",
       "      <th>mode</th>\n",
       "      <th>speechiness</th>\n",
       "      <th>tempo</th>\n",
       "      <th>time_signature</th>\n",
       "      <th>valence</th>\n",
       "    </tr>\n",
       "  </thead>\n",
       "  <tbody>\n",
       "    <tr>\n",
       "      <th>0</th>\n",
       "      <td>Ariana Grande</td>\n",
       "      <td>thank u, next</td>\n",
       "      <td>2rPE9A1vEgShuZxxzR2tZH</td>\n",
       "      <td>100</td>\n",
       "      <td>0.28000</td>\n",
       "      <td>0.724</td>\n",
       "      <td>207333</td>\n",
       "      <td>0.647</td>\n",
       "      <td>0.000000</td>\n",
       "      <td>1</td>\n",
       "      <td>0.1020</td>\n",
       "      <td>-5.642</td>\n",
       "      <td>1</td>\n",
       "      <td>0.0658</td>\n",
       "      <td>106.960</td>\n",
       "      <td>4</td>\n",
       "      <td>0.435</td>\n",
       "    </tr>\n",
       "    <tr>\n",
       "      <th>1</th>\n",
       "      <td>Los Unidades</td>\n",
       "      <td>E-Lo (feat. Jozzy)</td>\n",
       "      <td>3eydp9rHJAskzOevEBK267</td>\n",
       "      <td>66</td>\n",
       "      <td>0.46900</td>\n",
       "      <td>0.698</td>\n",
       "      <td>214720</td>\n",
       "      <td>0.797</td>\n",
       "      <td>0.001180</td>\n",
       "      <td>3</td>\n",
       "      <td>0.1520</td>\n",
       "      <td>-5.125</td>\n",
       "      <td>0</td>\n",
       "      <td>0.0615</td>\n",
       "      <td>101.969</td>\n",
       "      <td>4</td>\n",
       "      <td>0.530</td>\n",
       "    </tr>\n",
       "    <tr>\n",
       "      <th>2</th>\n",
       "      <td>Travis Scott</td>\n",
       "      <td>SICKO MODE</td>\n",
       "      <td>2xLMifQCjDGFmkHkpNLD9h</td>\n",
       "      <td>95</td>\n",
       "      <td>0.00513</td>\n",
       "      <td>0.834</td>\n",
       "      <td>312820</td>\n",
       "      <td>0.730</td>\n",
       "      <td>0.000000</td>\n",
       "      <td>8</td>\n",
       "      <td>0.1240</td>\n",
       "      <td>-3.714</td>\n",
       "      <td>1</td>\n",
       "      <td>0.2220</td>\n",
       "      <td>155.008</td>\n",
       "      <td>4</td>\n",
       "      <td>0.446</td>\n",
       "    </tr>\n",
       "    <tr>\n",
       "      <th>3</th>\n",
       "      <td>Sheck Wes</td>\n",
       "      <td>Mo Bamba</td>\n",
       "      <td>1xzBco0xcoJEDXktl7Jxrr</td>\n",
       "      <td>93</td>\n",
       "      <td>0.19400</td>\n",
       "      <td>0.729</td>\n",
       "      <td>183907</td>\n",
       "      <td>0.625</td>\n",
       "      <td>0.009860</td>\n",
       "      <td>4</td>\n",
       "      <td>0.2480</td>\n",
       "      <td>-5.266</td>\n",
       "      <td>1</td>\n",
       "      <td>0.0315</td>\n",
       "      <td>146.034</td>\n",
       "      <td>4</td>\n",
       "      <td>0.261</td>\n",
       "    </tr>\n",
       "    <tr>\n",
       "      <th>4</th>\n",
       "      <td>Kodak Black</td>\n",
       "      <td>ZEZE (feat. Travis Scott &amp; Offset)</td>\n",
       "      <td>7l3E7lcozEodtVsSTCkcaA</td>\n",
       "      <td>95</td>\n",
       "      <td>0.05150</td>\n",
       "      <td>0.861</td>\n",
       "      <td>228654</td>\n",
       "      <td>0.637</td>\n",
       "      <td>0.000003</td>\n",
       "      <td>8</td>\n",
       "      <td>0.0967</td>\n",
       "      <td>-5.692</td>\n",
       "      <td>0</td>\n",
       "      <td>0.2400</td>\n",
       "      <td>98.044</td>\n",
       "      <td>4</td>\n",
       "      <td>0.474</td>\n",
       "    </tr>\n",
       "  </tbody>\n",
       "</table>\n",
       "</div>"
      ],
      "text/plain": [
       "     artist_name                          track_name                track_id  \\\n",
       "0  Ariana Grande                       thank u, next  2rPE9A1vEgShuZxxzR2tZH   \n",
       "1   Los Unidades                  E-Lo (feat. Jozzy)  3eydp9rHJAskzOevEBK267   \n",
       "2   Travis Scott                          SICKO MODE  2xLMifQCjDGFmkHkpNLD9h   \n",
       "3      Sheck Wes                            Mo Bamba  1xzBco0xcoJEDXktl7Jxrr   \n",
       "4    Kodak Black  ZEZE (feat. Travis Scott & Offset)  7l3E7lcozEodtVsSTCkcaA   \n",
       "\n",
       "   popularity  acousticness  danceability  duration_ms  energy  \\\n",
       "0         100       0.28000         0.724       207333   0.647   \n",
       "1          66       0.46900         0.698       214720   0.797   \n",
       "2          95       0.00513         0.834       312820   0.730   \n",
       "3          93       0.19400         0.729       183907   0.625   \n",
       "4          95       0.05150         0.861       228654   0.637   \n",
       "\n",
       "   instrumentalness  key  liveness  loudness  mode  speechiness    tempo  \\\n",
       "0          0.000000    1    0.1020    -5.642     1       0.0658  106.960   \n",
       "1          0.001180    3    0.1520    -5.125     0       0.0615  101.969   \n",
       "2          0.000000    8    0.1240    -3.714     1       0.2220  155.008   \n",
       "3          0.009860    4    0.2480    -5.266     1       0.0315  146.034   \n",
       "4          0.000003    8    0.0967    -5.692     0       0.2400   98.044   \n",
       "\n",
       "   time_signature  valence  \n",
       "0               4    0.435  \n",
       "1               4    0.530  \n",
       "2               4    0.446  \n",
       "3               4    0.261  \n",
       "4               4    0.474  "
      ]
     },
     "execution_count": 14,
     "metadata": {},
     "output_type": "execute_result"
    }
   ],
   "source": [
    "# merge both dataframes\n",
    "\n",
    "# the 'inner' method will make sure that we only keep track IDs present in both datasets\n",
    "df = pd.merge(df_tracks,df_audio_features,on='track_id',how='inner')\n",
    "print(\"Shape of the dataset:\", df_audio_features.shape)\n",
    "df.head()"
   ]
  },
  {
   "cell_type": "code",
   "execution_count": 15,
   "metadata": {},
   "outputs": [
    {
     "data": {
      "text/html": [
       "<div>\n",
       "<style scoped>\n",
       "    .dataframe tbody tr th:only-of-type {\n",
       "        vertical-align: middle;\n",
       "    }\n",
       "\n",
       "    .dataframe tbody tr th {\n",
       "        vertical-align: top;\n",
       "    }\n",
       "\n",
       "    .dataframe thead th {\n",
       "        text-align: right;\n",
       "    }\n",
       "</style>\n",
       "<table border=\"1\" class=\"dataframe\">\n",
       "  <thead>\n",
       "    <tr style=\"text-align: right;\">\n",
       "      <th></th>\n",
       "      <th>artist_name</th>\n",
       "      <th>track_name</th>\n",
       "      <th>track_id</th>\n",
       "      <th>popularity</th>\n",
       "      <th>acousticness</th>\n",
       "      <th>danceability</th>\n",
       "      <th>duration_ms</th>\n",
       "      <th>energy</th>\n",
       "      <th>instrumentalness</th>\n",
       "      <th>key</th>\n",
       "      <th>liveness</th>\n",
       "      <th>loudness</th>\n",
       "      <th>mode</th>\n",
       "      <th>speechiness</th>\n",
       "      <th>tempo</th>\n",
       "      <th>time_signature</th>\n",
       "      <th>valence</th>\n",
       "    </tr>\n",
       "  </thead>\n",
       "  <tbody>\n",
       "  </tbody>\n",
       "</table>\n",
       "</div>"
      ],
      "text/plain": [
       "Empty DataFrame\n",
       "Columns: [artist_name, track_name, track_id, popularity, acousticness, danceability, duration_ms, energy, instrumentalness, key, liveness, loudness, mode, speechiness, tempo, time_signature, valence]\n",
       "Index: []"
      ]
     },
     "execution_count": 15,
     "metadata": {},
     "output_type": "execute_result"
    }
   ],
   "source": [
    "# check for duplicates\n",
    "\n",
    "df[df.duplicated(subset=['artist_name','track_name'],keep=False)]"
   ]
  },
  {
   "cell_type": "code",
   "execution_count": null,
   "metadata": {},
   "outputs": [],
   "source": []
  }
 ],
 "metadata": {
  "kernelspec": {
   "display_name": "Python 3",
   "language": "python",
   "name": "python3"
  },
  "language_info": {
   "codemirror_mode": {
    "name": "ipython",
    "version": 3
   },
   "file_extension": ".py",
   "mimetype": "text/x-python",
   "name": "python",
   "nbconvert_exporter": "python",
   "pygments_lexer": "ipython3",
   "version": "3.6.6"
  }
 },
 "nbformat": 4,
 "nbformat_minor": 2
}
