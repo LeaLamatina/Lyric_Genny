{
 "cells": [
  {
   "cell_type": "code",
   "execution_count": 1,
   "metadata": {},
   "outputs": [],
   "source": [
    "import pandas as pd\n",
    "import os\n",
    "from sklearn import preprocessing"
   ]
  },
  {
   "cell_type": "code",
   "execution_count": 2,
   "metadata": {},
   "outputs": [
    {
     "data": {
      "text/html": [
       "<div>\n",
       "<style scoped>\n",
       "    .dataframe tbody tr th:only-of-type {\n",
       "        vertical-align: middle;\n",
       "    }\n",
       "\n",
       "    .dataframe tbody tr th {\n",
       "        vertical-align: top;\n",
       "    }\n",
       "\n",
       "    .dataframe thead th {\n",
       "        text-align: right;\n",
       "    }\n",
       "</style>\n",
       "<table border=\"1\" class=\"dataframe\">\n",
       "  <thead>\n",
       "    <tr style=\"text-align: right;\">\n",
       "      <th></th>\n",
       "      <th>Unnamed: 0</th>\n",
       "      <th>artist_name</th>\n",
       "      <th>track_name</th>\n",
       "      <th>track_id</th>\n",
       "      <th>popularity</th>\n",
       "      <th>acousticness</th>\n",
       "      <th>danceability</th>\n",
       "      <th>duration_ms</th>\n",
       "      <th>energy</th>\n",
       "      <th>instrumentalness</th>\n",
       "      <th>key</th>\n",
       "      <th>liveness</th>\n",
       "      <th>loudness</th>\n",
       "      <th>mode</th>\n",
       "      <th>speechiness</th>\n",
       "      <th>tempo</th>\n",
       "      <th>time_signature</th>\n",
       "      <th>valence</th>\n",
       "    </tr>\n",
       "  </thead>\n",
       "  <tbody>\n",
       "    <tr>\n",
       "      <th>0</th>\n",
       "      <td>0</td>\n",
       "      <td>Ariana Grande</td>\n",
       "      <td>thank u, next</td>\n",
       "      <td>2rPE9A1vEgShuZxxzR2tZH</td>\n",
       "      <td>100</td>\n",
       "      <td>0.28000</td>\n",
       "      <td>0.724</td>\n",
       "      <td>207333</td>\n",
       "      <td>0.647</td>\n",
       "      <td>0.000000</td>\n",
       "      <td>1</td>\n",
       "      <td>0.1020</td>\n",
       "      <td>-5.642</td>\n",
       "      <td>1</td>\n",
       "      <td>0.0658</td>\n",
       "      <td>106.960</td>\n",
       "      <td>4</td>\n",
       "      <td>0.435</td>\n",
       "    </tr>\n",
       "    <tr>\n",
       "      <th>1</th>\n",
       "      <td>1</td>\n",
       "      <td>Los Unidades</td>\n",
       "      <td>E-Lo (feat. Jozzy)</td>\n",
       "      <td>3eydp9rHJAskzOevEBK267</td>\n",
       "      <td>68</td>\n",
       "      <td>0.46900</td>\n",
       "      <td>0.698</td>\n",
       "      <td>214720</td>\n",
       "      <td>0.797</td>\n",
       "      <td>0.001180</td>\n",
       "      <td>3</td>\n",
       "      <td>0.1520</td>\n",
       "      <td>-5.125</td>\n",
       "      <td>0</td>\n",
       "      <td>0.0615</td>\n",
       "      <td>101.969</td>\n",
       "      <td>4</td>\n",
       "      <td>0.530</td>\n",
       "    </tr>\n",
       "    <tr>\n",
       "      <th>2</th>\n",
       "      <td>2</td>\n",
       "      <td>Travis Scott</td>\n",
       "      <td>SICKO MODE</td>\n",
       "      <td>2xLMifQCjDGFmkHkpNLD9h</td>\n",
       "      <td>95</td>\n",
       "      <td>0.00513</td>\n",
       "      <td>0.834</td>\n",
       "      <td>312820</td>\n",
       "      <td>0.730</td>\n",
       "      <td>0.000000</td>\n",
       "      <td>8</td>\n",
       "      <td>0.1240</td>\n",
       "      <td>-3.714</td>\n",
       "      <td>1</td>\n",
       "      <td>0.2220</td>\n",
       "      <td>155.008</td>\n",
       "      <td>4</td>\n",
       "      <td>0.446</td>\n",
       "    </tr>\n",
       "    <tr>\n",
       "      <th>3</th>\n",
       "      <td>3</td>\n",
       "      <td>Sheck Wes</td>\n",
       "      <td>Mo Bamba</td>\n",
       "      <td>1xzBco0xcoJEDXktl7Jxrr</td>\n",
       "      <td>93</td>\n",
       "      <td>0.19400</td>\n",
       "      <td>0.729</td>\n",
       "      <td>183907</td>\n",
       "      <td>0.625</td>\n",
       "      <td>0.009860</td>\n",
       "      <td>4</td>\n",
       "      <td>0.2480</td>\n",
       "      <td>-5.266</td>\n",
       "      <td>1</td>\n",
       "      <td>0.0315</td>\n",
       "      <td>146.034</td>\n",
       "      <td>4</td>\n",
       "      <td>0.261</td>\n",
       "    </tr>\n",
       "    <tr>\n",
       "      <th>4</th>\n",
       "      <td>4</td>\n",
       "      <td>Kodak Black</td>\n",
       "      <td>ZEZE (feat. Travis Scott &amp; Offset)</td>\n",
       "      <td>7l3E7lcozEodtVsSTCkcaA</td>\n",
       "      <td>94</td>\n",
       "      <td>0.05150</td>\n",
       "      <td>0.861</td>\n",
       "      <td>228654</td>\n",
       "      <td>0.637</td>\n",
       "      <td>0.000003</td>\n",
       "      <td>8</td>\n",
       "      <td>0.0967</td>\n",
       "      <td>-5.692</td>\n",
       "      <td>0</td>\n",
       "      <td>0.2400</td>\n",
       "      <td>98.044</td>\n",
       "      <td>4</td>\n",
       "      <td>0.474</td>\n",
       "    </tr>\n",
       "  </tbody>\n",
       "</table>\n",
       "</div>"
      ],
      "text/plain": [
       "   Unnamed: 0    artist_name                          track_name  \\\n",
       "0           0  Ariana Grande                       thank u, next   \n",
       "1           1   Los Unidades                  E-Lo (feat. Jozzy)   \n",
       "2           2   Travis Scott                          SICKO MODE   \n",
       "3           3      Sheck Wes                            Mo Bamba   \n",
       "4           4    Kodak Black  ZEZE (feat. Travis Scott & Offset)   \n",
       "\n",
       "                 track_id  popularity  acousticness  danceability  \\\n",
       "0  2rPE9A1vEgShuZxxzR2tZH         100       0.28000         0.724   \n",
       "1  3eydp9rHJAskzOevEBK267          68       0.46900         0.698   \n",
       "2  2xLMifQCjDGFmkHkpNLD9h          95       0.00513         0.834   \n",
       "3  1xzBco0xcoJEDXktl7Jxrr          93       0.19400         0.729   \n",
       "4  7l3E7lcozEodtVsSTCkcaA          94       0.05150         0.861   \n",
       "\n",
       "   duration_ms  energy  instrumentalness  key  liveness  loudness  mode  \\\n",
       "0       207333   0.647          0.000000    1    0.1020    -5.642     1   \n",
       "1       214720   0.797          0.001180    3    0.1520    -5.125     0   \n",
       "2       312820   0.730          0.000000    8    0.1240    -3.714     1   \n",
       "3       183907   0.625          0.009860    4    0.2480    -5.266     1   \n",
       "4       228654   0.637          0.000003    8    0.0967    -5.692     0   \n",
       "\n",
       "   speechiness    tempo  time_signature  valence  \n",
       "0       0.0658  106.960               4    0.435  \n",
       "1       0.0615  101.969               4    0.530  \n",
       "2       0.2220  155.008               4    0.446  \n",
       "3       0.0315  146.034               4    0.261  \n",
       "4       0.2400   98.044               4    0.474  "
      ]
     },
     "execution_count": 2,
     "metadata": {},
     "output_type": "execute_result"
    }
   ],
   "source": [
    "df = pd.read_csv(os.path.join(\"Resources\", \"Spotify_Audio_Features.csv\"))\n",
    "df.head()"
   ]
  },
  {
   "cell_type": "code",
   "execution_count": 3,
   "metadata": {},
   "outputs": [
    {
     "data": {
      "text/html": [
       "<div>\n",
       "<style scoped>\n",
       "    .dataframe tbody tr th:only-of-type {\n",
       "        vertical-align: middle;\n",
       "    }\n",
       "\n",
       "    .dataframe tbody tr th {\n",
       "        vertical-align: top;\n",
       "    }\n",
       "\n",
       "    .dataframe thead th {\n",
       "        text-align: right;\n",
       "    }\n",
       "</style>\n",
       "<table border=\"1\" class=\"dataframe\">\n",
       "  <thead>\n",
       "    <tr style=\"text-align: right;\">\n",
       "      <th></th>\n",
       "      <th>artist_name</th>\n",
       "      <th>popularity</th>\n",
       "      <th>danceability</th>\n",
       "      <th>energy</th>\n",
       "      <th>liveness</th>\n",
       "      <th>loudness</th>\n",
       "      <th>speechiness</th>\n",
       "      <th>tempo</th>\n",
       "      <th>valence</th>\n",
       "    </tr>\n",
       "  </thead>\n",
       "  <tbody>\n",
       "    <tr>\n",
       "      <th>0</th>\n",
       "      <td>Ariana Grande</td>\n",
       "      <td>100</td>\n",
       "      <td>0.724</td>\n",
       "      <td>0.647</td>\n",
       "      <td>0.1020</td>\n",
       "      <td>-5.642</td>\n",
       "      <td>0.0658</td>\n",
       "      <td>106.960</td>\n",
       "      <td>0.435</td>\n",
       "    </tr>\n",
       "    <tr>\n",
       "      <th>1</th>\n",
       "      <td>Los Unidades</td>\n",
       "      <td>68</td>\n",
       "      <td>0.698</td>\n",
       "      <td>0.797</td>\n",
       "      <td>0.1520</td>\n",
       "      <td>-5.125</td>\n",
       "      <td>0.0615</td>\n",
       "      <td>101.969</td>\n",
       "      <td>0.530</td>\n",
       "    </tr>\n",
       "    <tr>\n",
       "      <th>2</th>\n",
       "      <td>Travis Scott</td>\n",
       "      <td>95</td>\n",
       "      <td>0.834</td>\n",
       "      <td>0.730</td>\n",
       "      <td>0.1240</td>\n",
       "      <td>-3.714</td>\n",
       "      <td>0.2220</td>\n",
       "      <td>155.008</td>\n",
       "      <td>0.446</td>\n",
       "    </tr>\n",
       "    <tr>\n",
       "      <th>3</th>\n",
       "      <td>Sheck Wes</td>\n",
       "      <td>93</td>\n",
       "      <td>0.729</td>\n",
       "      <td>0.625</td>\n",
       "      <td>0.2480</td>\n",
       "      <td>-5.266</td>\n",
       "      <td>0.0315</td>\n",
       "      <td>146.034</td>\n",
       "      <td>0.261</td>\n",
       "    </tr>\n",
       "    <tr>\n",
       "      <th>4</th>\n",
       "      <td>Kodak Black</td>\n",
       "      <td>94</td>\n",
       "      <td>0.861</td>\n",
       "      <td>0.637</td>\n",
       "      <td>0.0967</td>\n",
       "      <td>-5.692</td>\n",
       "      <td>0.2400</td>\n",
       "      <td>98.044</td>\n",
       "      <td>0.474</td>\n",
       "    </tr>\n",
       "  </tbody>\n",
       "</table>\n",
       "</div>"
      ],
      "text/plain": [
       "     artist_name  popularity  danceability  energy  liveness  loudness  \\\n",
       "0  Ariana Grande         100         0.724   0.647    0.1020    -5.642   \n",
       "1   Los Unidades          68         0.698   0.797    0.1520    -5.125   \n",
       "2   Travis Scott          95         0.834   0.730    0.1240    -3.714   \n",
       "3      Sheck Wes          93         0.729   0.625    0.2480    -5.266   \n",
       "4    Kodak Black          94         0.861   0.637    0.0967    -5.692   \n",
       "\n",
       "   speechiness    tempo  valence  \n",
       "0       0.0658  106.960    0.435  \n",
       "1       0.0615  101.969    0.530  \n",
       "2       0.2220  155.008    0.446  \n",
       "3       0.0315  146.034    0.261  \n",
       "4       0.2400   98.044    0.474  "
      ]
     },
     "execution_count": 3,
     "metadata": {},
     "output_type": "execute_result"
    }
   ],
   "source": [
    "drop_list = ['Unnamed: 0', 'track_name', 'track_id', 'acousticness', 'duration_ms', 'instrumentalness', 'key', 'mode',\n",
    "            'time_signature']\n",
    "data = df.drop(drop_list, axis=1)\n",
    "data.head()"
   ]
  },
  {
   "cell_type": "code",
   "execution_count": 4,
   "metadata": {},
   "outputs": [],
   "source": [
    "#Encode track id, track name and artistname into quantitative\n",
    "le = preprocessing.LabelEncoder()\n",
    "#data['track_id'] = le.fit_transform(data['track_id'].astype('str'))\n",
    "#data['track_name'] = le.fit_transform(data['track_name'].astype('str'))\n",
    "data['artist_name'] = le.fit_transform(data['artist_name'].astype('str'))"
   ]
  },
  {
   "cell_type": "code",
   "execution_count": 5,
   "metadata": {},
   "outputs": [
    {
     "name": "stdout",
     "output_type": "stream",
     "text": [
      "(7030, 8) (7030,)\n"
     ]
    }
   ],
   "source": [
    "# Assign X (data) and y (target)\n",
    "X = data.drop(\"popularity\", axis=1)\n",
    "y = data[\"popularity\"]\n",
    "print(X.shape, y.shape)"
   ]
  },
  {
   "cell_type": "code",
   "execution_count": 6,
   "metadata": {},
   "outputs": [],
   "source": [
    "from sklearn.model_selection import train_test_split\n",
    "\n",
    "X_train, X_test, y_train, y_test = train_test_split(X, y, random_state=42)"
   ]
  },
  {
   "cell_type": "code",
   "execution_count": 7,
   "metadata": {},
   "outputs": [
    {
     "data": {
      "text/plain": [
       "LogisticRegression(C=1.0, class_weight=None, dual=False, fit_intercept=True,\n",
       "          intercept_scaling=1, max_iter=100, multi_class='warn',\n",
       "          n_jobs=None, penalty='l2', random_state=None, solver='warn',\n",
       "          tol=0.0001, verbose=0, warm_start=False)"
      ]
     },
     "execution_count": 7,
     "metadata": {},
     "output_type": "execute_result"
    }
   ],
   "source": [
    "from sklearn.linear_model import LogisticRegression\n",
    "classifier = LogisticRegression()\n",
    "classifier"
   ]
  },
  {
   "cell_type": "code",
   "execution_count": 8,
   "metadata": {},
   "outputs": [
    {
     "name": "stderr",
     "output_type": "stream",
     "text": [
      "C:\\ProgramData\\Anaconda3\\lib\\site-packages\\sklearn\\linear_model\\logistic.py:432: FutureWarning: Default solver will be changed to 'lbfgs' in 0.22. Specify a solver to silence this warning.\n",
      "  FutureWarning)\n",
      "C:\\ProgramData\\Anaconda3\\lib\\site-packages\\sklearn\\linear_model\\logistic.py:459: FutureWarning: Default multi_class will be changed to 'auto' in 0.22. Specify the multi_class option to silence this warning.\n",
      "  \"this warning.\", FutureWarning)\n"
     ]
    },
    {
     "data": {
      "text/plain": [
       "LogisticRegression(C=1.0, class_weight=None, dual=False, fit_intercept=True,\n",
       "          intercept_scaling=1, max_iter=100, multi_class='warn',\n",
       "          n_jobs=None, penalty='l2', random_state=None, solver='warn',\n",
       "          tol=0.0001, verbose=0, warm_start=False)"
      ]
     },
     "execution_count": 8,
     "metadata": {},
     "output_type": "execute_result"
    }
   ],
   "source": [
    "classifier.fit(X_train, y_train)"
   ]
  },
  {
   "cell_type": "code",
   "execution_count": 9,
   "metadata": {},
   "outputs": [
    {
     "name": "stdout",
     "output_type": "stream",
     "text": [
      "Training Data Score: 0.054817905918057665\n",
      "Testing Data Score: 0.03811149032992037\n"
     ]
    }
   ],
   "source": [
    "print(f\"Training Data Score: {classifier.score(X_train, y_train)}\")\n",
    "print(f\"Testing Data Score: {classifier.score(X_test, y_test)}\")"
   ]
  },
  {
   "cell_type": "code",
   "execution_count": null,
   "metadata": {},
   "outputs": [],
   "source": []
  }
 ],
 "metadata": {
  "kernelspec": {
   "display_name": "Python 3",
   "language": "python",
   "name": "python3"
  },
  "language_info": {
   "codemirror_mode": {
    "name": "ipython",
    "version": 3
   },
   "file_extension": ".py",
   "mimetype": "text/x-python",
   "name": "python",
   "nbconvert_exporter": "python",
   "pygments_lexer": "ipython3",
   "version": "3.6.6"
  }
 },
 "nbformat": 4,
 "nbformat_minor": 2
}
